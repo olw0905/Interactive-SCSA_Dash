{
 "cells": [
  {
   "cell_type": "code",
   "execution_count": 2,
   "id": "44d5567e-03e3-4c28-9d14-a36ad50ba484",
   "metadata": {},
   "outputs": [],
   "source": [
    "import pandas as pd\n",
    "from calc import (\n",
    "    read_data,\n",
    "\n",
    ")\n",
    "# from allocation import calculate_allocation_ratio, format_input\n",
    "from utils import biorefinery_conversion, display_units, energy, mass, calculate_lca, emission_factor, primary_units, unit_conversion, metrics, mass_to_energy, convert_transport_lci, properties, metric_units\n",
    "import numpy as np\n",
    "import plotly.express as px"
   ]
  },
  {
   "cell_type": "code",
   "execution_count": null,
   "id": "38d3c9f6-26fa-48cf-813c-c20a7d9d1493",
   "metadata": {},
   "outputs": [],
   "source": []
  }
 ],
 "metadata": {
  "kernelspec": {
   "display_name": "Python 3 (ipykernel)",
   "language": "python",
   "name": "python3"
  },
  "language_info": {
   "codemirror_mode": {
    "name": "ipython",
    "version": 3
   },
   "file_extension": ".py",
   "mimetype": "text/x-python",
   "name": "python",
   "nbconvert_exporter": "python",
   "pygments_lexer": "ipython3",
   "version": "3.9.10"
  }
 },
 "nbformat": 4,
 "nbformat_minor": 5
}
